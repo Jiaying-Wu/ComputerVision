{
 "cells": [
  {
   "cell_type": "markdown",
   "id": "86cd9e80",
   "metadata": {
    "toc": true
   },
   "source": [
    "<h1>Table of Contents<span class=\"tocSkip\"></span></h1>\n",
    "<div class=\"toc\"><ul class=\"toc-item\"></ul></div>"
   ]
  },
  {
   "cell_type": "markdown",
   "id": "ef9a4b48",
   "metadata": {},
   "source": [
    "# SIFT: Scale Invariant Feature Transform\n",
    "\n",
    "- Compute Gaussian image pyramid\n",
    "\n",
    "![](image/cv_gaussian_pymaid.png)\n",
    "\n",
    "- Compute Difference of Gaussians\n",
    "\n",
    "![](image/cv_DoG.png)\n",
    "\n",
    "- Find candidate keypoints, i.e., local extrema within 3x3x3 neighborhood of DoG images\n",
    "\n",
    "![](image/cv_DoG_extrama.png)\n",
    "\n",
    "- Accurate keypoint localization\n",
    "\n",
    "    - perform a detailed fit to the nearby data to accurately determine position, scale\n",
    "\n",
    "    ![](image/cv_DoG_taylor.png)\n",
    "\n",
    "    ![](image/cv_refine_keypoing_location.png)\n",
    "\n",
    "    - keypoints that have low contrast (and are therefore sensitive to noise) or are poorly localized along an edge are removed\n",
    "\n",
    "    ![](image/cv_keypoint_prune.png)\n",
    "\n",
    "- Compute keypoints’ orientations\n",
    "\n",
    "![](image/cv_compute_kp_oring.png)\n",
    "\n",
    "- Compute descriptors\n",
    "\n",
    "![](image/cv_computer_kp_descriptor.png)"
   ]
  }
 ],
 "metadata": {
  "kernelspec": {
   "display_name": "Python 3 (ipykernel)",
   "language": "python",
   "name": "python3"
  },
  "language_info": {
   "codemirror_mode": {
    "name": "ipython",
    "version": 3
   },
   "file_extension": ".py",
   "mimetype": "text/x-python",
   "name": "python",
   "nbconvert_exporter": "python",
   "pygments_lexer": "ipython3",
   "version": "3.9.7"
  },
  "toc": {
   "base_numbering": 1,
   "nav_menu": {},
   "number_sections": true,
   "sideBar": true,
   "skip_h1_title": true,
   "title_cell": "Table of Contents",
   "title_sidebar": "Contents",
   "toc_cell": true,
   "toc_position": {},
   "toc_section_display": true,
   "toc_window_display": false
  },
  "varInspector": {
   "cols": {
    "lenName": 16,
    "lenType": 16,
    "lenVar": 40
   },
   "kernels_config": {
    "python": {
     "delete_cmd_postfix": "",
     "delete_cmd_prefix": "del ",
     "library": "var_list.py",
     "varRefreshCmd": "print(var_dic_list())"
    },
    "r": {
     "delete_cmd_postfix": ") ",
     "delete_cmd_prefix": "rm(",
     "library": "var_list.r",
     "varRefreshCmd": "cat(var_dic_list()) "
    }
   },
   "types_to_exclude": [
    "module",
    "function",
    "builtin_function_or_method",
    "instance",
    "_Feature"
   ],
   "window_display": false
  }
 },
 "nbformat": 4,
 "nbformat_minor": 5
}
