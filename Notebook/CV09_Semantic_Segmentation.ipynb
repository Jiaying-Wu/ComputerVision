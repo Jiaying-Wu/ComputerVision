{
 "cells": [
  {
   "cell_type": "markdown",
   "id": "38a98068",
   "metadata": {
    "toc": true
   },
   "source": [
    "<h1>Table of Contents<span class=\"tocSkip\"></span></h1>\n",
    "<div class=\"toc\"><ul class=\"toc-item\"><li><span><a href=\"#Different-between-Object-Detection-and-Semantic-segmentation\" data-toc-modified-id=\"Different-between-Object-Detection-and-Semantic-segmentation-1\"><span class=\"toc-item-num\">1&nbsp;&nbsp;</span>Different between Object Detection and Semantic segmentation</a></span></li><li><span><a href=\"#Fully-Convolutional-Networks-(FCN)\" data-toc-modified-id=\"Fully-Convolutional-Networks-(FCN)-2\"><span class=\"toc-item-num\">2&nbsp;&nbsp;</span>Fully Convolutional Networks (FCN)</a></span><ul class=\"toc-item\"><li><span><a href=\"#Unpooling\" data-toc-modified-id=\"Unpooling-2.1\"><span class=\"toc-item-num\">2.1&nbsp;&nbsp;</span>Unpooling</a></span></li><li><span><a href=\"#Max-Unpooling\" data-toc-modified-id=\"Max-Unpooling-2.2\"><span class=\"toc-item-num\">2.2&nbsp;&nbsp;</span>Max Unpooling</a></span></li><li><span><a href=\"#Transposed-Convolution\" data-toc-modified-id=\"Transposed-Convolution-2.3\"><span class=\"toc-item-num\">2.3&nbsp;&nbsp;</span>Transposed Convolution</a></span></li></ul></li><li><span><a href=\"#U-Net\" data-toc-modified-id=\"U-Net-3\"><span class=\"toc-item-num\">3&nbsp;&nbsp;</span>U-Net</a></span></li><li><span><a href=\"#Mask-R-CNN\" data-toc-modified-id=\"Mask-R-CNN-4\"><span class=\"toc-item-num\">4&nbsp;&nbsp;</span>Mask R-CNN</a></span><ul class=\"toc-item\"><li><span><a href=\"#RoI-Align\" data-toc-modified-id=\"RoI-Align-4.1\"><span class=\"toc-item-num\">4.1&nbsp;&nbsp;</span>RoI Align</a></span></li></ul></li></ul></div>"
   ]
  },
  {
   "cell_type": "markdown",
   "id": "0f6bc7be",
   "metadata": {},
   "source": [
    "# Semantic Segmentation\n",
    "\n",
    "- Input: image\n",
    "\n",
    "-  Output: class label for each pixel\n",
    "\n",
    "![](image/cv_semantic_segmentation.png)\n",
    "\n"
   ]
  },
  {
   "cell_type": "markdown",
   "id": "acec1e97",
   "metadata": {},
   "source": [
    "## Different between Object Detection and Semantic segmentation\n",
    "\n",
    "- Object Detection: object categories that can be separated into object instances (Eg, cat, car, person)\n",
    "\n",
    "- Semantic segmentation: object categories that can not be separated into object instances (Eg, sky, grass, water, trees)\n",
    "\n",
    "![](image/cv_compare_object_dect_semantic.png)"
   ]
  },
  {
   "cell_type": "markdown",
   "id": "715f876c",
   "metadata": {},
   "source": [
    "## Fully Convolutional Networks (FCN)\n",
    "\n",
    "![](image/cv_fcn.png)"
   ]
  },
  {
   "cell_type": "markdown",
   "id": "3d41f9d7",
   "metadata": {},
   "source": [
    "### Unpooling\n",
    "\n",
    "![](image/cv_unpooling.png)"
   ]
  },
  {
   "cell_type": "markdown",
   "id": "6e76178d",
   "metadata": {},
   "source": [
    "### Max Unpooling\n",
    "\n",
    "![](image/cv_max_unpooling.png)"
   ]
  },
  {
   "cell_type": "markdown",
   "id": "db65d4ea",
   "metadata": {},
   "source": [
    "### Transposed Convolution\n",
    "\n",
    "- To compute each intermediate tensor, each element in the input tensor is multiplied by the kernel so that the resulting 𝑘h × 𝑘𝑤 tensor replaces a portion in each intermediate tensor.\n",
    "\n",
    "- Note that the position of the replaced portion in each intermediate tensor corresponds to the position of the element in the input tensor used for the computation. \n",
    "\n",
    "- In the end, all the intermediate results are summed over to produce the output.\n",
    "\n",
    "![](image/cv_Transposed_convolution.png)\n",
    "\n",
    "- Different from in the regular convolution where padding is applied to input, it is applied to output in the transposed convolution.\n",
    "\n",
    "- For example, when specifying the padding number on either side of the height and width as 1, the first and last rows and columns will be removed from the transposed convolution output.\n",
    "\n",
    "- In the transposed convolution, strides are specified for intermediate results (thus output), not for input.\n",
    "\n",
    "![](image/cv_Transposed_convolution_padding.png)\n",
    "\n",
    "![](image/cv_Transposed_convolution_padding_2.png)"
   ]
  },
  {
   "cell_type": "markdown",
   "id": "854c3dbd",
   "metadata": {},
   "source": [
    "## U-Net\n",
    "\n",
    "paper: (O. Ronneberger, P. Fischer, and T. Brox, “U-Net: Convolutional Networks for Biomedical Image Segmentation”, MICCAI 2015)\n",
    "\n",
    "![](image/cv_unet.png)"
   ]
  },
  {
   "cell_type": "markdown",
   "id": "bd148999",
   "metadata": {},
   "source": [
    "## Mask R-CNN\n",
    "\n",
    "paper: (K. He, G. Gkioxari, P. Dollar, and R. Girshick, Mask R-CNN, ICCV 2017)\n",
    "\n",
    "![](image/cv_mask_rcnn.png)\n",
    "\n",
    "![](image/cv_mask_rcnn_result.png)"
   ]
  },
  {
   "cell_type": "markdown",
   "id": "7630f700",
   "metadata": {},
   "source": [
    "### RoI Align\n",
    "\n",
    "![](image/cv_roi_align.png)"
   ]
  }
 ],
 "metadata": {
  "kernelspec": {
   "display_name": "Python 3 (ipykernel)",
   "language": "python",
   "name": "python3"
  },
  "language_info": {
   "codemirror_mode": {
    "name": "ipython",
    "version": 3
   },
   "file_extension": ".py",
   "mimetype": "text/x-python",
   "name": "python",
   "nbconvert_exporter": "python",
   "pygments_lexer": "ipython3",
   "version": "3.9.7"
  },
  "toc": {
   "base_numbering": 1,
   "nav_menu": {},
   "number_sections": true,
   "sideBar": true,
   "skip_h1_title": true,
   "title_cell": "Table of Contents",
   "title_sidebar": "Contents",
   "toc_cell": true,
   "toc_position": {},
   "toc_section_display": true,
   "toc_window_display": false
  },
  "varInspector": {
   "cols": {
    "lenName": 16,
    "lenType": 16,
    "lenVar": 40
   },
   "kernels_config": {
    "python": {
     "delete_cmd_postfix": "",
     "delete_cmd_prefix": "del ",
     "library": "var_list.py",
     "varRefreshCmd": "print(var_dic_list())"
    },
    "r": {
     "delete_cmd_postfix": ") ",
     "delete_cmd_prefix": "rm(",
     "library": "var_list.r",
     "varRefreshCmd": "cat(var_dic_list()) "
    }
   },
   "types_to_exclude": [
    "module",
    "function",
    "builtin_function_or_method",
    "instance",
    "_Feature"
   ],
   "window_display": false
  }
 },
 "nbformat": 4,
 "nbformat_minor": 5
}
