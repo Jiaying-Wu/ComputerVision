{
 "cells": [
  {
   "cell_type": "markdown",
   "id": "a623338d",
   "metadata": {
    "toc": true
   },
   "source": [
    "<h1>Table of Contents<span class=\"tocSkip\"></span></h1>\n",
    "<div class=\"toc\"><ul class=\"toc-item\"><li><span><a href=\"#Derivatives-and-edges\" data-toc-modified-id=\"Derivatives-and-edges-1\"><span class=\"toc-item-num\">1&nbsp;&nbsp;</span>Derivatives and edges</a></span></li><li><span><a href=\"#Sobel-edge-detector\" data-toc-modified-id=\"Sobel-edge-detector-2\"><span class=\"toc-item-num\">2&nbsp;&nbsp;</span>Sobel edge detector</a></span></li><li><span><a href=\"#Canny-edge-detector\" data-toc-modified-id=\"Canny-edge-detector-3\"><span class=\"toc-item-num\">3&nbsp;&nbsp;</span>Canny edge detector</a></span></li><li><span><a href=\"#Non-Maximum-Suppression\" data-toc-modified-id=\"Non-Maximum-Suppression-4\"><span class=\"toc-item-num\">4&nbsp;&nbsp;</span>Non-Maximum Suppression</a></span></li><li><span><a href=\"#Keypoint-detection\" data-toc-modified-id=\"Keypoint-detection-5\"><span class=\"toc-item-num\">5&nbsp;&nbsp;</span>Keypoint detection</a></span></li><li><span><a href=\"#Corner-detection\" data-toc-modified-id=\"Corner-detection-6\"><span class=\"toc-item-num\">6&nbsp;&nbsp;</span>Corner detection</a></span></li><li><span><a href=\"#Harris-corner-detector\" data-toc-modified-id=\"Harris-corner-detector-7\"><span class=\"toc-item-num\">7&nbsp;&nbsp;</span>Harris corner detector</a></span></li></ul></div>"
   ]
  },
  {
   "cell_type": "markdown",
   "id": "36f19beb",
   "metadata": {},
   "source": [
    "# Edge detection\n",
    "\n",
    "- Goal: Identify sudden changes (discontinuities) in an image\n",
    "\n",
    "    - Intuitively, most semantic and shape information from the image can be encoded in the edges\n",
    "\n",
    "    - More compact than pixels\n",
    "\n",
    "- 4 types of discontinuity:\n",
    "\n",
    "    - surface normal discontinuity \n",
    "\n",
    "    - depth discontinuity\n",
    "\n",
    "    - surface color discontinuity \n",
    "\n",
    "    - illumination discontinuity\n",
    "    \n",
    "![](image/cv_normal_discontinuity.png)\n",
    "\n",
    "![](image/cv_Depth_discontinuity.png)\n",
    "\n",
    "![](image/cv_surface_color_dis.png)\n",
    "\n",
    "![](image/cv_ill_dis.png)"
   ]
  },
  {
   "cell_type": "markdown",
   "id": "216d6115",
   "metadata": {},
   "source": [
    "## Derivatives and edges\n",
    "\n",
    "An edge is a place of rapid change in the image intensity function.\n",
    "\n",
    "![](image/cv_edge_dev.png)"
   ]
  },
  {
   "cell_type": "markdown",
   "id": "d9b957e9",
   "metadata": {},
   "source": [
    "Derivatives with convolution\n",
    "\n",
    "![](image/cv_dev_con.png)"
   ]
  },
  {
   "cell_type": "markdown",
   "id": "97aa4879",
   "metadata": {},
   "source": [
    "Partial derivatives of an image\n",
    "\n",
    "![](image/cv_image_dev.png)"
   ]
  },
  {
   "cell_type": "markdown",
   "id": "04f26568",
   "metadata": {},
   "source": [
    "Image gradient\n",
    "\n",
    "![](image/cv_image_gradient.png)"
   ]
  },
  {
   "cell_type": "markdown",
   "id": "36c80c22",
   "metadata": {},
   "source": [
    "Approximations of derivative filters\n",
    "\n",
    "![](image/cv_approx_filter.png)"
   ]
  },
  {
   "cell_type": "markdown",
   "id": "b2c422f0",
   "metadata": {},
   "source": [
    "## Sobel edge detector\n",
    "\n",
    "![](image/cv_sobel_edge.png)"
   ]
  },
  {
   "cell_type": "markdown",
   "id": "f4e190aa",
   "metadata": {},
   "source": [
    "## Canny edge detector\n",
    "\n",
    "- Filter image with derivative of Gaussian \n",
    "\n",
    "- Find magnitude and orientation of gradient \n",
    "\n",
    "- Non-maximum suppression:\n",
    "\n",
    "    - Thin wide “ridges” down to single pixel width \n",
    "\n",
    "- Linking and thresholding (hysteresis):\n",
    "\n",
    "- Define two thresholds: low and high\n",
    "\n",
    "    - Use the high threshold to start edge curves and the low\n",
    "\n",
    "    - threshold to continue them"
   ]
  },
  {
   "cell_type": "markdown",
   "id": "0ac6ca4a",
   "metadata": {},
   "source": [
    "## Non-Maximum Suppression\n",
    "\n",
    "![](image/cv_non_maximum_supression.png)\n",
    "\n",
    "![](image/cv_non_maximum_supression_2.png)"
   ]
  },
  {
   "cell_type": "markdown",
   "id": "2b1a096b",
   "metadata": {},
   "source": [
    "## Keypoint detection\n",
    "\n",
    "![](image/cv_key_point.png)\n",
    "\n",
    "Characteristics of good keypoints:\n",
    "\n",
    "- Compactness and efficiency\n",
    "    \n",
    "    - Many fewer keypoints than image pixels\n",
    "\n",
    "- Saliency\n",
    "\n",
    "    - Each keypoint is distinctive\n",
    "\n",
    "- Locality\n",
    "    - A keypoint occupies a relatively small area of the image; robust to clutter and occlusion\n",
    "\n",
    "- Repeatability\n",
    "\n",
    "    - The same keypoint can be found in several images despite geometric and photometric transformations\n",
    "\n",
    "Feature points are used for: \n",
    "\n",
    "- Image alignment\n",
    "\n",
    "- 3D reconstruction\n",
    "\n",
    "- Motion tracking\n",
    "\n",
    "- Robot navigation\n",
    "\n",
    "- Indexing and database retrieval \n",
    "\n",
    "- Object recognition"
   ]
  },
  {
   "cell_type": "markdown",
   "id": "ff994137",
   "metadata": {},
   "source": [
    "## Corner detection\n",
    "\n",
    "- We might recognize the point by looking through a small window.\n",
    "\n",
    "- We want a window shift in any direction to give a large change in intensity.\n",
    "\n",
    "![](image/cv_corner_detection.png)"
   ]
  },
  {
   "cell_type": "markdown",
   "id": "83b87fe7",
   "metadata": {},
   "source": [
    "![](image/cv_corner_detect_math.png)"
   ]
  },
  {
   "cell_type": "markdown",
   "id": "2979381e",
   "metadata": {},
   "source": [
    "Harris Detector Formulation\n",
    "\n",
    "![](image/cv_harris_formula.png)"
   ]
  },
  {
   "cell_type": "markdown",
   "id": "6b5b38d7",
   "metadata": {},
   "source": [
    "Corner response function\n",
    "\n",
    "![](image/cv_Corner_response_function.png)"
   ]
  },
  {
   "cell_type": "markdown",
   "id": "fb85f79d",
   "metadata": {},
   "source": [
    "## Harris corner detector\n",
    "\n",
    "1. Compute partial derivatives $I_x$ and $I_y$ at each pixel\n",
    "\n",
    "2. Compute second moment matrix in a Gaussian window around each pixel:\n",
    "\n",
    "![](image/cv_harris_second_moment.png)\n",
    "\n",
    "3. Compute corner response function $𝑅 = det(𝑀) − \\alpha * trace (𝑀)^2$\n",
    "\n",
    "4. Find points with large corner response: R > threshold\n",
    "\n",
    "5. Take only the points of local maxima of R"
   ]
  }
 ],
 "metadata": {
  "kernelspec": {
   "display_name": "Python 3 (ipykernel)",
   "language": "python",
   "name": "python3"
  },
  "language_info": {
   "codemirror_mode": {
    "name": "ipython",
    "version": 3
   },
   "file_extension": ".py",
   "mimetype": "text/x-python",
   "name": "python",
   "nbconvert_exporter": "python",
   "pygments_lexer": "ipython3",
   "version": "3.9.7"
  },
  "toc": {
   "base_numbering": 1,
   "nav_menu": {},
   "number_sections": true,
   "sideBar": true,
   "skip_h1_title": true,
   "title_cell": "Table of Contents",
   "title_sidebar": "Contents",
   "toc_cell": true,
   "toc_position": {},
   "toc_section_display": true,
   "toc_window_display": false
  },
  "varInspector": {
   "cols": {
    "lenName": 16,
    "lenType": 16,
    "lenVar": 40
   },
   "kernels_config": {
    "python": {
     "delete_cmd_postfix": "",
     "delete_cmd_prefix": "del ",
     "library": "var_list.py",
     "varRefreshCmd": "print(var_dic_list())"
    },
    "r": {
     "delete_cmd_postfix": ") ",
     "delete_cmd_prefix": "rm(",
     "library": "var_list.r",
     "varRefreshCmd": "cat(var_dic_list()) "
    }
   },
   "types_to_exclude": [
    "module",
    "function",
    "builtin_function_or_method",
    "instance",
    "_Feature"
   ],
   "window_display": false
  }
 },
 "nbformat": 4,
 "nbformat_minor": 5
}
