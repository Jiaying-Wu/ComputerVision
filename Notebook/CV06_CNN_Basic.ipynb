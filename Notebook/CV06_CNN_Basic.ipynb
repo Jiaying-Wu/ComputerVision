{
 "cells": [
  {
   "cell_type": "markdown",
   "id": "cb548fad",
   "metadata": {
    "toc": true
   },
   "source": [
    "<h1>Table of Contents<span class=\"tocSkip\"></span></h1>\n",
    "<div class=\"toc\"><ul class=\"toc-item\"><li><span><a href=\"#Convolutional-layers\" data-toc-modified-id=\"Convolutional-layers-1\"><span class=\"toc-item-num\">1&nbsp;&nbsp;</span>Convolutional layers</a></span></li><li><span><a href=\"#Pooling-layer\" data-toc-modified-id=\"Pooling-layer-2\"><span class=\"toc-item-num\">2&nbsp;&nbsp;</span>Pooling layer</a></span></li><li><span><a href=\"#Softmax\" data-toc-modified-id=\"Softmax-3\"><span class=\"toc-item-num\">3&nbsp;&nbsp;</span>Softmax</a></span></li><li><span><a href=\"#Cross-entropy-loss\" data-toc-modified-id=\"Cross-entropy-loss-4\"><span class=\"toc-item-num\">4&nbsp;&nbsp;</span>Cross-entropy loss</a></span></li></ul></div>"
   ]
  },
  {
   "cell_type": "markdown",
   "id": "c4bbcd2d",
   "metadata": {},
   "source": [
    "# Convolutional Neural Networks\n",
    "\n",
    "## Convolutional layers\n",
    "\n",
    "![](image/cv_Convolution.png)\n",
    "\n",
    "![](image/cv_Convolution2.png)\n",
    "\n",
    "![](image/cv_Convolution3.png)"
   ]
  },
  {
   "cell_type": "markdown",
   "id": "50095610",
   "metadata": {},
   "source": [
    "N: input shape\n",
    "\n",
    "P: padding size\n",
    "\n",
    "F: filter size\n",
    "\n",
    "\n",
    "![](image/cv_conv_shape.png)"
   ]
  },
  {
   "cell_type": "markdown",
   "id": "c030262f",
   "metadata": {},
   "source": [
    "## Pooling layer\n",
    "\n",
    "- Suppose the input size is W1xH1xC\n",
    "\n",
    "- If the size of pooling window is FxF and the stride is s\n",
    "\n",
    "-  The output size of the pooling layer will be W2xH2xC \n",
    "\n",
    "    - W2=(W1-F)/S+1\n",
    "\n",
    "    - H2=(H1-F)/S+1\n",
    "\n",
    "- The pooling layer has no parameters\n",
    "\n",
    "![](image/cv_pooling1.png)\n",
    "\n",
    "![](image/cv_max_pooling.png)"
   ]
  },
  {
   "cell_type": "markdown",
   "id": "fc242f94",
   "metadata": {},
   "source": [
    "## Softmax\n",
    "\n",
    "![](image/cv_softmax.png)"
   ]
  },
  {
   "cell_type": "markdown",
   "id": "2b0ff85a",
   "metadata": {},
   "source": [
    "## Cross-entropy loss\n",
    "\n",
    "![](image/cv_cross_entropy.png)"
   ]
  }
 ],
 "metadata": {
  "kernelspec": {
   "display_name": "Python 3 (ipykernel)",
   "language": "python",
   "name": "python3"
  },
  "language_info": {
   "codemirror_mode": {
    "name": "ipython",
    "version": 3
   },
   "file_extension": ".py",
   "mimetype": "text/x-python",
   "name": "python",
   "nbconvert_exporter": "python",
   "pygments_lexer": "ipython3",
   "version": "3.9.7"
  },
  "toc": {
   "base_numbering": 1,
   "nav_menu": {},
   "number_sections": true,
   "sideBar": true,
   "skip_h1_title": true,
   "title_cell": "Table of Contents",
   "title_sidebar": "Contents",
   "toc_cell": true,
   "toc_position": {},
   "toc_section_display": true,
   "toc_window_display": false
  },
  "varInspector": {
   "cols": {
    "lenName": 16,
    "lenType": 16,
    "lenVar": 40
   },
   "kernels_config": {
    "python": {
     "delete_cmd_postfix": "",
     "delete_cmd_prefix": "del ",
     "library": "var_list.py",
     "varRefreshCmd": "print(var_dic_list())"
    },
    "r": {
     "delete_cmd_postfix": ") ",
     "delete_cmd_prefix": "rm(",
     "library": "var_list.r",
     "varRefreshCmd": "cat(var_dic_list()) "
    }
   },
   "types_to_exclude": [
    "module",
    "function",
    "builtin_function_or_method",
    "instance",
    "_Feature"
   ],
   "window_display": false
  }
 },
 "nbformat": 4,
 "nbformat_minor": 5
}
