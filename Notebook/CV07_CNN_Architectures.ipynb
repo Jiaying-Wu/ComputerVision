{
 "cells": [
  {
   "cell_type": "markdown",
   "id": "7e9220fc",
   "metadata": {
    "toc": true
   },
   "source": [
    "<h1>Table of Contents<span class=\"tocSkip\"></span></h1>\n",
    "<div class=\"toc\"><ul class=\"toc-item\"><li><span><a href=\"#LeNet-5\" data-toc-modified-id=\"LeNet-5-1\"><span class=\"toc-item-num\">1&nbsp;&nbsp;</span>LeNet-5</a></span></li><li><span><a href=\"#AlexNet\" data-toc-modified-id=\"AlexNet-2\"><span class=\"toc-item-num\">2&nbsp;&nbsp;</span>AlexNet</a></span></li><li><span><a href=\"#VGGNet\" data-toc-modified-id=\"VGGNet-3\"><span class=\"toc-item-num\">3&nbsp;&nbsp;</span>VGGNet</a></span></li><li><span><a href=\"#GoogleNet\" data-toc-modified-id=\"GoogleNet-4\"><span class=\"toc-item-num\">4&nbsp;&nbsp;</span>GoogleNet</a></span><ul class=\"toc-item\"><li><span><a href=\"#Stem-Network\" data-toc-modified-id=\"Stem-Network-4.1\"><span class=\"toc-item-num\">4.1&nbsp;&nbsp;</span>Stem Network</a></span></li><li><span><a href=\"#Inception-module\" data-toc-modified-id=\"Inception-module-4.2\"><span class=\"toc-item-num\">4.2&nbsp;&nbsp;</span>Inception module</a></span></li><li><span><a href=\"#Output-Layer\" data-toc-modified-id=\"Output-Layer-4.3\"><span class=\"toc-item-num\">4.3&nbsp;&nbsp;</span>Output Layer</a></span></li><li><span><a href=\"#Auxiliary-Gradient-Layer\" data-toc-modified-id=\"Auxiliary-Gradient-Layer-4.4\"><span class=\"toc-item-num\">4.4&nbsp;&nbsp;</span>Auxiliary Gradient Layer</a></span></li></ul></li><li><span><a href=\"#ResNet\" data-toc-modified-id=\"ResNet-5\"><span class=\"toc-item-num\">5&nbsp;&nbsp;</span>ResNet</a></span><ul class=\"toc-item\"><li><span><a href=\"#Residual-block\" data-toc-modified-id=\"Residual-block-5.1\"><span class=\"toc-item-num\">5.1&nbsp;&nbsp;</span>Residual block</a></span></li><li><span><a href=\"#Bottleneck-for-deeper-ResNet-(50+-layers)\" data-toc-modified-id=\"Bottleneck-for-deeper-ResNet-(50+-layers)-5.2\"><span class=\"toc-item-num\">5.2&nbsp;&nbsp;</span>Bottleneck for deeper ResNet (50+ layers)</a></span></li></ul></li><li><span><a href=\"#Squeeze-and-Excitation-Networks-(SENet)\" data-toc-modified-id=\"Squeeze-and-Excitation-Networks-(SENet)-6\"><span class=\"toc-item-num\">6&nbsp;&nbsp;</span>Squeeze-and-Excitation Networks (SENet)</a></span></li></ul></div>"
   ]
  },
  {
   "cell_type": "markdown",
   "id": "b7d672e0",
   "metadata": {},
   "source": [
    "# CNN Architectures\n",
    "\n",
    "## LeNet-5\n",
    "\n",
    "paper: (Y. LeCun, L. Bottou, Y. Bengio, and P. Haffner, “Gradient-based learning applied to document recognition”, Proceedings of the IEEE, 1998)\n",
    "\n",
    "![](image/cv_lenet5.png)"
   ]
  },
  {
   "cell_type": "markdown",
   "id": "8ca0c9ff",
   "metadata": {},
   "source": [
    "## AlexNet\n",
    "\n",
    "paper: (A. Krizhevsky, I. Sutskever, and G. Hinton, “ImageNet Classification with Deep Convolutional Neural Networks”, NIPS 2012)\n",
    "\n",
    "The design philosophies of AlexNet is similar to LeNet, but there are some significant differences:\n",
    "\n",
    "- AlexNet is deeper than LeNet-5\n",
    "\n",
    "    - 5 conv. layers, 2 fully connected (FC) hidden layers, 1 FC output layer\n",
    "\n",
    "- AlexNet uses ReLU, maxpooling\n",
    "\n",
    "- Dropout is used in AlexNet (in the two FC hidden layers)\n",
    "\n",
    "![](image/cv_alexnet1.png)\n",
    "\n",
    "![](image/cv_alexnet2.png)"
   ]
  },
  {
   "cell_type": "markdown",
   "id": "3e12dc7f",
   "metadata": {},
   "source": [
    "## VGGNet\n",
    "\n",
    "- Each 3x3 conv. layer is with stride 1, pad 1\n",
    "\n",
    "- 2x2 MaxPool, stride 2\n",
    "\n",
    "**Stack of three 3x3 conv. layers (stride 1) has an effective receptive field of 7x7, i.e., same as a 7x7 conv layer**\n",
    "\n",
    "- Deeper, more nonlinearities\n",
    "\n",
    "- Decrease the number of parameters\n",
    "\n",
    "    - Suppose the number of channels is C; the number of filters is also C\n",
    "\n",
    "    - Three 3x3 conv. layers: 3x(3x3xCxC) = $27C^2$ parameters\n",
    "    \n",
    "    - One 7x7 conv. layer: 1x(7x7xCxC) = $49C^2$ parameters\n",
    "\n",
    "![](image/cv_3x3_filter.png)\n",
    "\n",
    "**What is the output size of the first conv. layer?**\n",
    "\n",
    "- (W - F + 2P) / S + 1 = (224 – 3 + 2*1)/1 + 1 = 224 -> output size: 224x224x64\n",
    "\n",
    "![](image/cv_vggnet.png)"
   ]
  },
  {
   "cell_type": "markdown",
   "id": "8b69a973",
   "metadata": {},
   "source": [
    "## GoogleNet\n",
    "\n",
    "Paper: (C. Szegedy et al., “Going Deeper with Convolutions”, CVPR 2015.)\n",
    "\n",
    "- 22 layers\n",
    "\n",
    "- Only 5 million parameters, 12x less than AlexNet, 27x less than VGG16\n",
    "\n",
    "- Efficeient \"Inception\" module\n",
    "\n",
    "- No FC layers\n",
    "\n",
    "![](image/cv_googlenet.png)"
   ]
  },
  {
   "cell_type": "markdown",
   "id": "9cc226ef",
   "metadata": {},
   "source": [
    "### Stem Network\n",
    "\n",
    "![](image/cv_googlenet_stem.png)\n",
    "\n"
   ]
  },
  {
   "cell_type": "markdown",
   "id": "f1fe8102",
   "metadata": {},
   "source": [
    "### Inception module\n",
    "\n",
    "![](image/cv_googlenet_stack.png)\n",
    "\n",
    "**Problem of Naive Inception module**\n",
    "\n",
    "![](image/cv_Inception_module_problem.png)\n",
    "\n",
    "**Solution of Inception module**\n",
    "\n",
    "- Bottleneck layer that use 1x1 convolutionsto reduce feature channel size.\n",
    "\n",
    "![](image/cv_Inception_module_solution.png)\n",
    "\n"
   ]
  },
  {
   "cell_type": "markdown",
   "id": "b49fa5a2",
   "metadata": {},
   "source": [
    "### Output Layer \n",
    "\n",
    "![](image/cv_googlenet_output_layer.png)\n",
    "\n"
   ]
  },
  {
   "cell_type": "markdown",
   "id": "f867cfc5",
   "metadata": {},
   "source": [
    "### Auxiliary Gradient Layer\n",
    "\n",
    "![](image/cv_googlenet_auxiliary.png)"
   ]
  },
  {
   "cell_type": "markdown",
   "id": "ef3f428f",
   "metadata": {},
   "source": [
    "## ResNet\n",
    "\n",
    "Paper: (K. He, X. Zhang, S. Ren, and J. Sun, “Deep Residual Learning for Image Recognition”, CVPR 2016)\n",
    "\n",
    "- Very deep networks using residual connections.\n",
    "\n",
    "- Deep models have more representation power (more parameters) than the shallow network.\n",
    "\n",
    "- In deeper model, it's easier to optimize the residual than to the orginal, unreferenced mapping.\n",
    "\n"
   ]
  },
  {
   "cell_type": "markdown",
   "id": "a43e7c79",
   "metadata": {},
   "source": [
    "### Residual block\n",
    "\n",
    "- The shortcut connection performs identity mapping\n",
    "\n",
    "- Its output is added to the output of the stacked layers\n",
    "\n",
    "![](image/cv_resnet.png)\n"
   ]
  },
  {
   "cell_type": "markdown",
   "id": "0bdd49bf",
   "metadata": {},
   "source": [
    "### Bottleneck for deeper ResNet (50+ layers)\n",
    "\n",
    "![](image/cv_resnet_bottleneck.png)"
   ]
  },
  {
   "cell_type": "markdown",
   "id": "8e666eb4",
   "metadata": {},
   "source": [
    "## Squeeze-and-Excitation Networks (SENet)\n",
    "\n",
    "Improving the Identity blcok\n",
    "\n",
    "![](image/cv_senet.png)"
   ]
  }
 ],
 "metadata": {
  "kernelspec": {
   "display_name": "Python 3 (ipykernel)",
   "language": "python",
   "name": "python3"
  },
  "language_info": {
   "codemirror_mode": {
    "name": "ipython",
    "version": 3
   },
   "file_extension": ".py",
   "mimetype": "text/x-python",
   "name": "python",
   "nbconvert_exporter": "python",
   "pygments_lexer": "ipython3",
   "version": "3.9.7"
  },
  "toc": {
   "base_numbering": 1,
   "nav_menu": {},
   "number_sections": true,
   "sideBar": true,
   "skip_h1_title": true,
   "title_cell": "Table of Contents",
   "title_sidebar": "Contents",
   "toc_cell": true,
   "toc_position": {},
   "toc_section_display": true,
   "toc_window_display": false
  },
  "varInspector": {
   "cols": {
    "lenName": 16,
    "lenType": 16,
    "lenVar": 40
   },
   "kernels_config": {
    "python": {
     "delete_cmd_postfix": "",
     "delete_cmd_prefix": "del ",
     "library": "var_list.py",
     "varRefreshCmd": "print(var_dic_list())"
    },
    "r": {
     "delete_cmd_postfix": ") ",
     "delete_cmd_prefix": "rm(",
     "library": "var_list.r",
     "varRefreshCmd": "cat(var_dic_list()) "
    }
   },
   "types_to_exclude": [
    "module",
    "function",
    "builtin_function_or_method",
    "instance",
    "_Feature"
   ],
   "window_display": false
  }
 },
 "nbformat": 4,
 "nbformat_minor": 5
}
