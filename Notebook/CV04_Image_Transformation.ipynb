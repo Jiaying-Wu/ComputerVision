{
 "cells": [
  {
   "cell_type": "markdown",
   "id": "aee9debf",
   "metadata": {
    "toc": true
   },
   "source": [
    "<h1>Table of Contents<span class=\"tocSkip\"></span></h1>\n",
    "<div class=\"toc\"><ul class=\"toc-item\"><li><span><a href=\"#Image-transformations\" data-toc-modified-id=\"Image-transformations-1\"><span class=\"toc-item-num\">1&nbsp;&nbsp;</span>Image transformations</a></span></li><li><span><a href=\"#RANSAC\" data-toc-modified-id=\"RANSAC-2\"><span class=\"toc-item-num\">2&nbsp;&nbsp;</span>RANSAC</a></span></li></ul></div>"
   ]
  },
  {
   "cell_type": "markdown",
   "id": "4aa8a295",
   "metadata": {},
   "source": [
    "## Image transformations\n",
    "\n",
    "Common transformations\n",
    "\n",
    "![](image/cv_common_transf.png)\n",
    "\n",
    "![](image/cv_common_transf_table.png)"
   ]
  },
  {
   "cell_type": "markdown",
   "id": "4b82bdee",
   "metadata": {},
   "source": [
    "## RANSAC\n",
    "\n",
    "Random sample consensus: very general framework for model fitting in the presence of outliers.\n",
    "\n",
    "How to do:\n",
    "\n",
    "- Randomly choose a small initial subset of points\n",
    "\n",
    "![](image/cv_RANSAC_step1.png)\n",
    "\n",
    "- Fit a model to that subset\n",
    "\n",
    "![](image/cv_RANSAC_step2.png)\n",
    "\n",
    "- Compute the error of all points to the model\n",
    "\n",
    "![](image/cv_RANSAC_step3.png)\n",
    "\n",
    "- Select points close to the model.\n",
    "\n",
    "![](image/cv_RANSAC_step4.png)\n",
    "\n",
    "- Do this many times and choose the model with the most inliers\n",
    "\n",
    "![](image/cv_RANSAC_step5.png)"
   ]
  }
 ],
 "metadata": {
  "kernelspec": {
   "display_name": "Python 3 (ipykernel)",
   "language": "python",
   "name": "python3"
  },
  "language_info": {
   "codemirror_mode": {
    "name": "ipython",
    "version": 3
   },
   "file_extension": ".py",
   "mimetype": "text/x-python",
   "name": "python",
   "nbconvert_exporter": "python",
   "pygments_lexer": "ipython3",
   "version": "3.9.7"
  },
  "toc": {
   "base_numbering": 1,
   "nav_menu": {},
   "number_sections": true,
   "sideBar": true,
   "skip_h1_title": true,
   "title_cell": "Table of Contents",
   "title_sidebar": "Contents",
   "toc_cell": true,
   "toc_position": {},
   "toc_section_display": true,
   "toc_window_display": false
  },
  "varInspector": {
   "cols": {
    "lenName": 16,
    "lenType": 16,
    "lenVar": 40
   },
   "kernels_config": {
    "python": {
     "delete_cmd_postfix": "",
     "delete_cmd_prefix": "del ",
     "library": "var_list.py",
     "varRefreshCmd": "print(var_dic_list())"
    },
    "r": {
     "delete_cmd_postfix": ") ",
     "delete_cmd_prefix": "rm(",
     "library": "var_list.r",
     "varRefreshCmd": "cat(var_dic_list()) "
    }
   },
   "types_to_exclude": [
    "module",
    "function",
    "builtin_function_or_method",
    "instance",
    "_Feature"
   ],
   "window_display": false
  }
 },
 "nbformat": 4,
 "nbformat_minor": 5
}
