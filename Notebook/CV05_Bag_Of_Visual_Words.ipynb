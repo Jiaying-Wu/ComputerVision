{
 "cells": [
  {
   "cell_type": "markdown",
   "id": "5c3f7d1e",
   "metadata": {
    "toc": true
   },
   "source": [
    "<h1>Table of Contents<span class=\"tocSkip\"></span></h1>\n",
    "<div class=\"toc\"><ul class=\"toc-item\"><li><span><a href=\"#Image-classification-pipeline\" data-toc-modified-id=\"Image-classification-pipeline-1\"><span class=\"toc-item-num\">1&nbsp;&nbsp;</span>Image classification pipeline</a></span></li><li><span><a href=\"#Bag-of-Visual-Words\" data-toc-modified-id=\"Bag-of-Visual-Words-2\"><span class=\"toc-item-num\">2&nbsp;&nbsp;</span>Bag of Visual Words</a></span></li></ul></div>"
   ]
  },
  {
   "cell_type": "markdown",
   "id": "d5b57a4b",
   "metadata": {},
   "source": [
    "## Image classification pipeline\n",
    "\n",
    "![](image/cv_image_claassfiy_pipline.png)\n",
    "\n",
    "![](image/cv_image_classfiy_pipline_train.png)"
   ]
  },
  {
   "cell_type": "markdown",
   "id": "db117812",
   "metadata": {},
   "source": [
    "## Bag of Visual Words\n",
    "\n",
    "1. Feature extraction\n",
    "\n",
    "![](image/cv_bovw_step1.png)\n",
    "\n",
    "2. Learn “visual vocabulary”\n",
    "\n",
    "![](image/cv_bovw_step2.png)\n",
    "\n",
    "3. Quantize features using visual vocabulary\n",
    "\n",
    "![](image/cv_bovw_step3.png)\n",
    "\n",
    "4. Represent images by frequencies of “visual words”\n",
    "\n",
    "![](image/cv_bovw_step4.png)"
   ]
  }
 ],
 "metadata": {
  "kernelspec": {
   "display_name": "Python 3 (ipykernel)",
   "language": "python",
   "name": "python3"
  },
  "language_info": {
   "codemirror_mode": {
    "name": "ipython",
    "version": 3
   },
   "file_extension": ".py",
   "mimetype": "text/x-python",
   "name": "python",
   "nbconvert_exporter": "python",
   "pygments_lexer": "ipython3",
   "version": "3.9.7"
  },
  "toc": {
   "base_numbering": 1,
   "nav_menu": {},
   "number_sections": true,
   "sideBar": true,
   "skip_h1_title": true,
   "title_cell": "Table of Contents",
   "title_sidebar": "Contents",
   "toc_cell": true,
   "toc_position": {},
   "toc_section_display": true,
   "toc_window_display": false
  },
  "varInspector": {
   "cols": {
    "lenName": 16,
    "lenType": 16,
    "lenVar": 40
   },
   "kernels_config": {
    "python": {
     "delete_cmd_postfix": "",
     "delete_cmd_prefix": "del ",
     "library": "var_list.py",
     "varRefreshCmd": "print(var_dic_list())"
    },
    "r": {
     "delete_cmd_postfix": ") ",
     "delete_cmd_prefix": "rm(",
     "library": "var_list.r",
     "varRefreshCmd": "cat(var_dic_list()) "
    }
   },
   "types_to_exclude": [
    "module",
    "function",
    "builtin_function_or_method",
    "instance",
    "_Feature"
   ],
   "window_display": false
  }
 },
 "nbformat": 4,
 "nbformat_minor": 5
}
