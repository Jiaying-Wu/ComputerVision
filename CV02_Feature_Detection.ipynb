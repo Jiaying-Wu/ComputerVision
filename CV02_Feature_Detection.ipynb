{
 "cells": [
  {
   "cell_type": "markdown",
   "id": "294e5a99",
   "metadata": {},
   "source": [
    "# Feature Detection\n",
    "\n",
    "Feature detection and matching are an essential component of many computer vision applications. Consider the two pairs of images shown in Figure 7.2.\n",
    "\n",
    "![](image/cv_mountain.png)\n",
    "\n",
    "The first kind of feature that you may notice are **specific locations in the images**, such as mountain peaks, building corners, doorways, or interestingly shaped patches of snow. These kinds of **localized features** are often called **keypoint features** or **interest points** (or even **corners**) and are often described by the appearance of pixel patches surrounding the point location.\n",
    "\n",
    "Another class of important features are edges, e.g., the profile of mountains against the sky. These kinds of features can be matched based on their **orientation** and **local appearance** (**edge** profiles) and can also be good indicators of **object boundaries** and **occlusion** events in image sequences. *Edges can be grouped into longer curves and contours*, which can then be tracked. They can also be grouped into straight line segments, which can be directly matched or analyzed to find vanishing points and hence internal and external camera parameters.\n",
    "\n",
    "Edges and lines provide information that is complementary to both keypoint and region-based descriptors and are well suited to describing the boundaries of manufactured objects."
   ]
  },
  {
   "cell_type": "markdown",
   "id": "9f95f459",
   "metadata": {
    "toc": true
   },
   "source": [
    "<h1>Table of Contents<span class=\"tocSkip\"></span></h1>\n",
    "<div class=\"toc\"><ul class=\"toc-item\"><li><span><a href=\"#Points-and-patches\" data-toc-modified-id=\"Points-and-patches-1\"><span class=\"toc-item-num\">1&nbsp;&nbsp;</span>Points and patches</a></span></li><li><span><a href=\"#Edges-and-contours\" data-toc-modified-id=\"Edges-and-contours-2\"><span class=\"toc-item-num\">2&nbsp;&nbsp;</span>Edges and contours</a></span></li><li><span><a href=\"#Contour-tracking\" data-toc-modified-id=\"Contour-tracking-3\"><span class=\"toc-item-num\">3&nbsp;&nbsp;</span>Contour tracking</a></span></li><li><span><a href=\"#Lines-and-vanishing-points\" data-toc-modified-id=\"Lines-and-vanishing-points-4\"><span class=\"toc-item-num\">4&nbsp;&nbsp;</span>Lines and vanishing points</a></span></li><li><span><a href=\"#Segmentation\" data-toc-modified-id=\"Segmentation-5\"><span class=\"toc-item-num\">5&nbsp;&nbsp;</span>Segmentation</a></span></li></ul></div>"
   ]
  },
  {
   "cell_type": "markdown",
   "id": "b5db8e83",
   "metadata": {},
   "source": [
    "## Points and patches\n",
    "\n",
    "Point features can be used to find a sparse set of **corresponding locations** in different images, often as a precursor to computing camera pose, which is a prerequisite for computing a denser set of correspondences using stereo matching. Such correspondences can also be used to align different images, e.g., when *stitching image mosaics* or *high dynamic range images*, or performing *video stabilization*. They are also used extensively to perform *object instance recognition*. A key advantage of keypoints is that they permit matching even in the presence of clutter (occlusion) and large scale and orientation changes."
   ]
  },
  {
   "cell_type": "markdown",
   "id": "b0a14693",
   "metadata": {},
   "source": [
    "## Edges and contours"
   ]
  },
  {
   "cell_type": "markdown",
   "id": "d116dd05",
   "metadata": {},
   "source": [
    "## Contour tracking"
   ]
  },
  {
   "cell_type": "markdown",
   "id": "ff435229",
   "metadata": {},
   "source": [
    "## Lines and vanishing points"
   ]
  },
  {
   "cell_type": "markdown",
   "id": "52bf8712",
   "metadata": {},
   "source": [
    "## Segmentation"
   ]
  },
  {
   "cell_type": "code",
   "execution_count": null,
   "id": "52db6598",
   "metadata": {},
   "outputs": [],
   "source": []
  }
 ],
 "metadata": {
  "kernelspec": {
   "display_name": "Python 3 (ipykernel)",
   "language": "python",
   "name": "python3"
  },
  "language_info": {
   "codemirror_mode": {
    "name": "ipython",
    "version": 3
   },
   "file_extension": ".py",
   "mimetype": "text/x-python",
   "name": "python",
   "nbconvert_exporter": "python",
   "pygments_lexer": "ipython3",
   "version": "3.9.7"
  },
  "toc": {
   "base_numbering": 1,
   "nav_menu": {},
   "number_sections": true,
   "sideBar": true,
   "skip_h1_title": true,
   "title_cell": "Table of Contents",
   "title_sidebar": "Contents",
   "toc_cell": true,
   "toc_position": {},
   "toc_section_display": true,
   "toc_window_display": true
  },
  "varInspector": {
   "cols": {
    "lenName": 16,
    "lenType": 16,
    "lenVar": 40
   },
   "kernels_config": {
    "python": {
     "delete_cmd_postfix": "",
     "delete_cmd_prefix": "del ",
     "library": "var_list.py",
     "varRefreshCmd": "print(var_dic_list())"
    },
    "r": {
     "delete_cmd_postfix": ") ",
     "delete_cmd_prefix": "rm(",
     "library": "var_list.r",
     "varRefreshCmd": "cat(var_dic_list()) "
    }
   },
   "types_to_exclude": [
    "module",
    "function",
    "builtin_function_or_method",
    "instance",
    "_Feature"
   ],
   "window_display": false
  }
 },
 "nbformat": 4,
 "nbformat_minor": 5
}