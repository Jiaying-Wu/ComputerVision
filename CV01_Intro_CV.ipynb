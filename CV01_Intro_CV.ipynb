{
 "cells": [
  {
   "cell_type": "markdown",
   "id": "a1c10794",
   "metadata": {
    "toc": true
   },
   "source": [
    "<h1>Table of Contents<span class=\"tocSkip\"></span></h1>\n",
    "<div class=\"toc\"><ul class=\"toc-item\"><li><span><a href=\"#Dataset-for-Computer-Vision\" data-toc-modified-id=\"Dataset-for-Computer-Vision-1\"><span class=\"toc-item-num\">1&nbsp;&nbsp;</span>Dataset for Computer Vision</a></span><ul class=\"toc-item\"><li><span><a href=\"#Dataset-for-Image-classification\" data-toc-modified-id=\"Dataset-for-Image-classification-1.1\"><span class=\"toc-item-num\">1.1&nbsp;&nbsp;</span>Dataset for Image classification</a></span></li><li><span><a href=\"#Dataset-for-Object-Detection\" data-toc-modified-id=\"Dataset-for-Object-Detection-1.2\"><span class=\"toc-item-num\">1.2&nbsp;&nbsp;</span>Dataset for Object Detection</a></span></li><li><span><a href=\"#Dataset-for-Semantic-segmentation\" data-toc-modified-id=\"Dataset-for-Semantic-segmentation-1.3\"><span class=\"toc-item-num\">1.3&nbsp;&nbsp;</span>Dataset for Semantic segmentation</a></span></li></ul></li><li><span><a href=\"#Applications-of-Computer-Vision\" data-toc-modified-id=\"Applications-of-Computer-Vision-2\"><span class=\"toc-item-num\">2&nbsp;&nbsp;</span>Applications of Computer Vision</a></span></li><li><span><a href=\"#Images-Types\" data-toc-modified-id=\"Images-Types-3\"><span class=\"toc-item-num\">3&nbsp;&nbsp;</span>Images Types</a></span><ul class=\"toc-item\"><li><span><a href=\"#Grayscale-images\" data-toc-modified-id=\"Grayscale-images-3.1\"><span class=\"toc-item-num\">3.1&nbsp;&nbsp;</span>Grayscale images</a></span></li><li><span><a href=\"#RGB-color-images\" data-toc-modified-id=\"RGB-color-images-3.2\"><span class=\"toc-item-num\">3.2&nbsp;&nbsp;</span>RGB color images</a></span></li></ul></li><li><span><a href=\"#Image-as-functions\" data-toc-modified-id=\"Image-as-functions-4\"><span class=\"toc-item-num\">4&nbsp;&nbsp;</span>Image as functions</a></span></li><li><span><a href=\"#Point-operations\" data-toc-modified-id=\"Point-operations-5\"><span class=\"toc-item-num\">5&nbsp;&nbsp;</span>Point operations</a></span></li><li><span><a href=\"#Image-histogram\" data-toc-modified-id=\"Image-histogram-6\"><span class=\"toc-item-num\">6&nbsp;&nbsp;</span>Image histogram</a></span></li><li><span><a href=\"#Image-filtering\" data-toc-modified-id=\"Image-filtering-7\"><span class=\"toc-item-num\">7&nbsp;&nbsp;</span>Image filtering</a></span><ul class=\"toc-item\"><li><span><a href=\"#Correlation-filtering\" data-toc-modified-id=\"Correlation-filtering-7.1\"><span class=\"toc-item-num\">7.1&nbsp;&nbsp;</span>Correlation filtering</a></span></li><li><span><a href=\"#Box-filter\" data-toc-modified-id=\"Box-filter-7.2\"><span class=\"toc-item-num\">7.2&nbsp;&nbsp;</span>Box filter</a></span></li></ul></li><li><span><a href=\"#Practice-with-linear-filters\" data-toc-modified-id=\"Practice-with-linear-filters-8\"><span class=\"toc-item-num\">8&nbsp;&nbsp;</span>Practice with linear filters</a></span></li><li><span><a href=\"#Gaussian-filter\" data-toc-modified-id=\"Gaussian-filter-9\"><span class=\"toc-item-num\">9&nbsp;&nbsp;</span>Gaussian filter</a></span></li></ul></div>"
   ]
  },
  {
   "cell_type": "markdown",
   "id": "925ac54e",
   "metadata": {},
   "source": [
    "# Introduction to Computer Vision"
   ]
  },
  {
   "cell_type": "markdown",
   "id": "48f6060b",
   "metadata": {},
   "source": [
    "## Dataset for Computer Vision\n",
    "\n",
    "### Dataset for Image classification\n",
    "\n",
    "- Input: Image\n",
    "\n",
    "- Output: class label\n",
    "\n",
    "- Datasets: \n",
    "    \n",
    "    - MNIST\n",
    "\n",
    "    - CIFAR10, CIFAR100 \n",
    "    \n",
    "    - ImageNet\n",
    "\n",
    "    - ...\n",
    "\n",
    "![](image/cv_cifar100.png)\n"
   ]
  },
  {
   "cell_type": "markdown",
   "id": "44a79dc5",
   "metadata": {},
   "source": [
    "### Dataset for Object Detection\n",
    "\n",
    "- Input: Image\n",
    "\n",
    "- Output: object bounding boxes and class labels\n",
    "\n",
    "- Datasets: \n",
    "\n",
    "    - Pascal VOC\n",
    "\n",
    "    - MS-COCO\n",
    "\n",
    "    - ...\n",
    "\n",
    "![](image/cv_tapmi.png)"
   ]
  },
  {
   "cell_type": "markdown",
   "id": "ec106de1",
   "metadata": {},
   "source": [
    "### Dataset for Semantic segmentation\n",
    "\n",
    "- Input: Image\n",
    "\n",
    "- Output: class label for each pixel\n",
    "\n",
    "- Datasets: \n",
    "\n",
    "    - Pascal VOC\n",
    "\n",
    "    - Cityscapes\n",
    "\n",
    "    - ...\n",
    "\n",
    "![](image/cv_pascal.png)"
   ]
  },
  {
   "cell_type": "markdown",
   "id": "f0a0a391",
   "metadata": {},
   "source": [
    "## Applications of Computer Vision\n",
    "\n",
    "**Microsoft**\n",
    "\n",
    "- Microsoft Azure: motion, gesture, facial recognition\n",
    "\n",
    "- Mixed reality, e.g., HoloLens\n",
    "\n",
    "- Seeing AI: help blindness to see the world (https://www.youtube.com/watch?v=R2mC-NUAmMk)\n",
    "\n",
    "**IBM**\n",
    "\n",
    "- Video content analysis, medical image, image captioning, low-power computer vision\n",
    "\n",
    "- IBM Watson platform: healthcare, satellite imagery\n",
    "\n",
    "**APIs and systems for image/video analysis**\n",
    "\n",
    "- Google Cloud Vision API\n",
    "\n",
    "- Amazon Rekognition (https://aws.amazon.com/rekognition/)\n",
    "\n",
    "**Autonomous driving**\n",
    "\n",
    "- Tesla, AutoX, NVIDIA, ..."
   ]
  },
  {
   "cell_type": "markdown",
   "id": "d4ff638b",
   "metadata": {},
   "source": [
    "## Images Types\n",
    "\n",
    "### Grayscale images\n",
    "\n",
    "- A grayscale image can be represented as a matrix.\n",
    "\n",
    "- Each element of the matrix corresponds to one image pixel.\n",
    "\n",
    "![](image/cv_grey_image.png)"
   ]
  },
  {
   "cell_type": "markdown",
   "id": "679dda31",
   "metadata": {},
   "source": [
    "### RGB color images\n",
    "\n",
    "- Each RGB color image has 3 numbers (R,G,B) per pixel \n",
    "\n",
    "- Usually, R, G & B values are in [0, 255]\n",
    "\n",
    "- Represented as an m × n × 3 matrix\n",
    "\n",
    "![](image/cv_rgb_image.png)"
   ]
  },
  {
   "cell_type": "markdown",
   "id": "98f89df2",
   "metadata": {},
   "source": [
    "## Image as functions\n",
    "\n",
    "- A gray scale image can be considered as a function f: R2 -> R. f(x,y) returns the intensity at the location (x,y)\n",
    "\n",
    "- An RGB image can be considered as a vector-valued function: f(x,y) = [r(x,y) g(x,y) b(x,y)]\n",
    "\n",
    "- The simple image operations, which we can perform are the point operations."
   ]
  },
  {
   "cell_type": "markdown",
   "id": "9c7abc84",
   "metadata": {},
   "source": [
    "## Point operations\n",
    "\n",
    "- Applying operations on pixels individually.\n",
    "\n",
    "- Two commonly used point operations are multiplication and addition.\n",
    "\n",
    "        g(x,y) = a f(x,y) + b\n",
    "\n",
    "- The parameters a > 0 and b are often called the gain and bias parameters.\n",
    "\n",
    "- Sometimes these parameters are said to control contrast and brightness, respectively.\n",
    "\n",
    "![](image/cv_point_operation.png)"
   ]
  },
  {
   "cell_type": "markdown",
   "id": "686c9508",
   "metadata": {},
   "source": [
    "## Image histogram\n",
    "\n",
    "- Histogram captures the distribution of gray levels in the image.\n",
    "\n",
    "- How frequently each gray level occurs in the image.\n",
    "\n",
    "![](image/cv_image_hist.png)"
   ]
  },
  {
   "cell_type": "markdown",
   "id": "9074ab0c",
   "metadata": {},
   "source": [
    "## Image filtering\n",
    "\n",
    "- Compute a function of the local neighborhood at each pixel in the image\n",
    "\n",
    "    - Function specified by a “filter” or mask saying how to combine values from neighbors.\n",
    "\n",
    "- Uses of filtering:\n",
    "\n",
    "    - Enhance an image (denoise, resize, etc)\n",
    "\n",
    "    - Extract information (texture, edges, etc) \n",
    "    \n",
    "    - Detect patterns (template matching)"
   ]
  },
  {
   "cell_type": "markdown",
   "id": "8018ef28",
   "metadata": {},
   "source": [
    "### Correlation filtering\n",
    "\n",
    "![](image/cv_corr_filter.png)\n",
    "\n",
    "This is called cross-correlation, denoted: $G = H \\otimes F$\n",
    "\n",
    "Filtering an image: replace each pixel with a linear combination of its neighbors.\n",
    "\n",
    "The filter “kernel” or “mask” H[u,v] is the prescription for the weights in the linear combination."
   ]
  },
  {
   "cell_type": "markdown",
   "id": "8f2114d4",
   "metadata": {},
   "source": [
    "### Box filter\n",
    "\n",
    "- Replaces each pixel with an average of its neighborhood\n",
    "\n",
    "- Achieve smoothing effect (remove sharp features)\n",
    "\n",
    "![](image/cv_box_filter.png)\n",
    "\n",
    "![](image/cv_box_filter_1.png)\n",
    "\n",
    "![](image/cv_box_filter_2.png)\n",
    "\n",
    "![](image/cv_box_filter_smooth.png)"
   ]
  },
  {
   "cell_type": "markdown",
   "id": "f69924b6",
   "metadata": {},
   "source": [
    "## Practice with linear filters\n",
    "\n",
    "![](image/cv_filter_no_change.png)\n",
    "\n",
    "![](image/cv_filter_shift.png)\n",
    "\n",
    "![](image/cv_filter_sharpness.png)"
   ]
  },
  {
   "cell_type": "markdown",
   "id": "8bda2fa7",
   "metadata": {},
   "source": [
    "## Gaussian filter\n",
    "\n",
    "- Weight contributions of neighboring pixels by nearness\n",
    "\n",
    "How to choose the filter size?\n",
    "\n",
    "- values at edges should be near 0\n",
    "\n",
    "- Rule of thumb of Gaussian: set filter half-width about 3 σ\n",
    "\n",
    "**Properties**:\n",
    "\n",
    "- Remove “high-frequency” components from the image (low-pass filter)\n",
    "\n",
    "    - Images become more smooth\n",
    "\n",
    "- Convolution with self is another Gaussian\n",
    "\n",
    "    - So can smooth with small-width kernel, repeat, and get same result as larger width kernel would have\n",
    "\n",
    "    - Convolving two times with Gaussian kernel of width σ is same as convolving once with kernel of width $\\sigma \\sqrt{2}$\n",
    "\n",
    "- Separable kernel\n",
    "\n",
    "    - Factors into product of two 1D Gaussians\n",
    "\n",
    "![](image/cv_gaussian_filter.png)"
   ]
  }
 ],
 "metadata": {
  "kernelspec": {
   "display_name": "Python 3 (ipykernel)",
   "language": "python",
   "name": "python3"
  },
  "language_info": {
   "codemirror_mode": {
    "name": "ipython",
    "version": 3
   },
   "file_extension": ".py",
   "mimetype": "text/x-python",
   "name": "python",
   "nbconvert_exporter": "python",
   "pygments_lexer": "ipython3",
   "version": "3.9.7"
  },
  "toc": {
   "base_numbering": 1,
   "nav_menu": {},
   "number_sections": true,
   "sideBar": true,
   "skip_h1_title": true,
   "title_cell": "Table of Contents",
   "title_sidebar": "Contents",
   "toc_cell": true,
   "toc_position": {},
   "toc_section_display": true,
   "toc_window_display": false
  },
  "varInspector": {
   "cols": {
    "lenName": 16,
    "lenType": 16,
    "lenVar": 40
   },
   "kernels_config": {
    "python": {
     "delete_cmd_postfix": "",
     "delete_cmd_prefix": "del ",
     "library": "var_list.py",
     "varRefreshCmd": "print(var_dic_list())"
    },
    "r": {
     "delete_cmd_postfix": ") ",
     "delete_cmd_prefix": "rm(",
     "library": "var_list.r",
     "varRefreshCmd": "cat(var_dic_list()) "
    }
   },
   "types_to_exclude": [
    "module",
    "function",
    "builtin_function_or_method",
    "instance",
    "_Feature"
   ],
   "window_display": false
  }
 },
 "nbformat": 4,
 "nbformat_minor": 5
}
